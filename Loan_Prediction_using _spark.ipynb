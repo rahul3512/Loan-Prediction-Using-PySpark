{
 "cells": [
  {
   "cell_type": "code",
   "execution_count": 1,
   "metadata": {},
   "outputs": [],
   "source": [
    "# Importing the library\n",
    "import pyspark\n",
    "import findspark\n",
    "from pyspark.sql import SparkSession\n",
    "\n",
    "# Creating object of spark session\n",
    "spark = SparkSession.builder.appName('bank').getOrCreate()"
   ]
  },
  {
   "cell_type": "code",
   "execution_count": 2,
   "metadata": {},
   "outputs": [],
   "source": [
    "# Read the csv file\n",
    "df = spark.read.csv('bank.csv' , header = True , inferSchema = True )\n"
   ]
  },
  {
   "cell_type": "code",
   "execution_count": 3,
   "metadata": {},
   "outputs": [
    {
     "name": "stdout",
     "output_type": "stream",
     "text": [
      "11162 17\n"
     ]
    }
   ],
   "source": [
    "# Checking dimensions\n",
    "print(df.count(),len(df.columns))"
   ]
  },
  {
   "cell_type": "code",
   "execution_count": 4,
   "metadata": {},
   "outputs": [
    {
     "name": "stdout",
     "output_type": "stream",
     "text": [
      "root\n",
      " |-- age: integer (nullable = true)\n",
      " |-- job: string (nullable = true)\n",
      " |-- marital: string (nullable = true)\n",
      " |-- education: string (nullable = true)\n",
      " |-- default: string (nullable = true)\n",
      " |-- balance: integer (nullable = true)\n",
      " |-- housing: string (nullable = true)\n",
      " |-- loan: string (nullable = true)\n",
      " |-- contact: string (nullable = true)\n",
      " |-- day: integer (nullable = true)\n",
      " |-- month: string (nullable = true)\n",
      " |-- duration: integer (nullable = true)\n",
      " |-- campaign: integer (nullable = true)\n",
      " |-- pdays: integer (nullable = true)\n",
      " |-- previous: integer (nullable = true)\n",
      " |-- poutcome: string (nullable = true)\n",
      " |-- deposit: string (nullable = true)\n",
      "\n"
     ]
    }
   ],
   "source": [
    "# Check for schema\n",
    "df.printSchema()"
   ]
  },
  {
   "cell_type": "code",
   "execution_count": 5,
   "metadata": {},
   "outputs": [
    {
     "name": "stdout",
     "output_type": "stream",
     "text": [
      "+---+----------+-------+---------+-------+-------+-------+----+-------+---+-----+--------+--------+-----+--------+--------+-------+\n",
      "|age|       job|marital|education|default|balance|housing|loan|contact|day|month|duration|campaign|pdays|previous|poutcome|deposit|\n",
      "+---+----------+-------+---------+-------+-------+-------+----+-------+---+-----+--------+--------+-----+--------+--------+-------+\n",
      "| 59|    admin.|married|secondary|     no|   2343|    yes|  no|unknown|  5|  may|    1042|       1|   -1|       0| unknown|    yes|\n",
      "| 56|    admin.|married|secondary|     no|     45|     no|  no|unknown|  5|  may|    1467|       1|   -1|       0| unknown|    yes|\n",
      "| 41|technician|married|secondary|     no|   1270|    yes|  no|unknown|  5|  may|    1389|       1|   -1|       0| unknown|    yes|\n",
      "| 55|  services|married|secondary|     no|   2476|    yes|  no|unknown|  5|  may|     579|       1|   -1|       0| unknown|    yes|\n",
      "| 54|    admin.|married| tertiary|     no|    184|     no|  no|unknown|  5|  may|     673|       2|   -1|       0| unknown|    yes|\n",
      "+---+----------+-------+---------+-------+-------+-------+----+-------+---+-----+--------+--------+-----+--------+--------+-------+\n",
      "only showing top 5 rows\n",
      "\n"
     ]
    }
   ],
   "source": [
    "# Top 5 rows\n",
    "df.show(5)"
   ]
  },
  {
   "cell_type": "code",
   "execution_count": 6,
   "metadata": {},
   "outputs": [],
   "source": [
    "#Droping unwanted columns\n",
    "my_data = df.drop(*['contact' , 'day' , 'month' , 'default'])"
   ]
  },
  {
   "cell_type": "code",
   "execution_count": 7,
   "metadata": {},
   "outputs": [
    {
     "data": {
      "text/plain": [
       "{'age': 0,\n",
       " 'job': 0,\n",
       " 'marital': 0,\n",
       " 'education': 0,\n",
       " 'balance': 0,\n",
       " 'housing': 0,\n",
       " 'loan': 0,\n",
       " 'duration': 0,\n",
       " 'campaign': 0,\n",
       " 'pdays': 0,\n",
       " 'previous': 0,\n",
       " 'poutcome': 0,\n",
       " 'deposit': 0}"
      ]
     },
     "execution_count": 7,
     "metadata": {},
     "output_type": "execute_result"
    }
   ],
   "source": [
    "# Null value count of columns\n",
    "Dict_Null = {col:my_data.filter(my_data[col].isNull()).count() for col in my_data.columns}\n",
    "Dict_Null"
   ]
  },
  {
   "cell_type": "code",
   "execution_count": 8,
   "metadata": {},
   "outputs": [
    {
     "name": "stdout",
     "output_type": "stream",
     "text": [
      "+-------+------------------+-------+--------+---------+------------------+-------+-----+------------------+------------------+------------------+------------------+--------+-------+\n",
      "|summary|               age|    job| marital|education|           balance|housing| loan|          duration|          campaign|             pdays|          previous|poutcome|deposit|\n",
      "+-------+------------------+-------+--------+---------+------------------+-------+-----+------------------+------------------+------------------+------------------+--------+-------+\n",
      "|  count|             11162|  11162|   11162|    11162|             11162|  11162|11162|             11162|             11162|             11162|             11162|   11162|  11162|\n",
      "|   mean|41.231947679627304|   null|    null|     null|1528.5385235620856|   null| null|371.99381831213043| 2.508421429851281| 51.33040673714388|0.8325568894463358|    null|   null|\n",
      "| stddev|11.913369192215518|   null|    null|     null| 3225.413325946149|   null| null|347.12838571630687|2.7220771816614824|108.75828197197717| 2.292007218670508|    null|   null|\n",
      "|    min|                18| admin.|divorced|  primary|             -6847|     no|   no|                 2|                 1|                -1|                 0| failure|     no|\n",
      "|    max|                95|unknown|  single|  unknown|             81204|    yes|  yes|              3881|                63|               854|                58| unknown|    yes|\n",
      "+-------+------------------+-------+--------+---------+------------------+-------+-----+------------------+------------------+------------------+------------------+--------+-------+\n",
      "\n"
     ]
    }
   ],
   "source": [
    "my_data.describe().show()"
   ]
  },
  {
   "cell_type": "code",
   "execution_count": 9,
   "metadata": {},
   "outputs": [
    {
     "name": "stdout",
     "output_type": "stream",
     "text": [
      "+-------------+-----+\n",
      "|          job|count|\n",
      "+-------------+-----+\n",
      "|   management| 2566|\n",
      "|      retired|  778|\n",
      "|      unknown|   70|\n",
      "|self-employed|  405|\n",
      "|      student|  360|\n",
      "|  blue-collar| 1944|\n",
      "| entrepreneur|  328|\n",
      "|       admin.| 1334|\n",
      "|   technician| 1823|\n",
      "|     services|  923|\n",
      "|    housemaid|  274|\n",
      "|   unemployed|  357|\n",
      "+-------------+-----+\n",
      "\n",
      "\n",
      "+--------+-----+\n",
      "| marital|count|\n",
      "+--------+-----+\n",
      "|divorced| 1293|\n",
      "| married| 6351|\n",
      "|  single| 3518|\n",
      "+--------+-----+\n",
      "\n",
      "\n",
      "+---------+-----+\n",
      "|education|count|\n",
      "+---------+-----+\n",
      "|  unknown|  497|\n",
      "| tertiary| 3689|\n",
      "|secondary| 5476|\n",
      "|  primary| 1500|\n",
      "+---------+-----+\n",
      "\n",
      "\n",
      "+----+-----+\n",
      "|loan|count|\n",
      "+----+-----+\n",
      "|  no| 9702|\n",
      "| yes| 1460|\n",
      "+----+-----+\n",
      "\n",
      "\n",
      "+--------+-----+\n",
      "|poutcome|count|\n",
      "+--------+-----+\n",
      "| success| 1071|\n",
      "| unknown| 8326|\n",
      "|   other|  537|\n",
      "| failure| 1228|\n",
      "+--------+-----+\n",
      "\n",
      "\n",
      "+-------+-----+\n",
      "|deposit|count|\n",
      "+-------+-----+\n",
      "|     no| 5873|\n",
      "|    yes| 5289|\n",
      "+-------+-----+\n",
      "\n"
     ]
    }
   ],
   "source": [
    "# value counts of columns\n",
    "my_data.groupBy('job').count().show()\n",
    "print()\n",
    "my_data.groupBy('marital').count().show()\n",
    "print()\n",
    "my_data.groupBy('education').count().show()\n",
    "print()\n",
    "my_data.groupBy('loan').count().show()\n",
    "print()\n",
    "my_data.groupBy('poutcome').count().show()\n",
    "print()\n",
    "my_data.groupBy('deposit').count().show()"
   ]
  },
  {
   "cell_type": "code",
   "execution_count": 10,
   "metadata": {},
   "outputs": [
    {
     "data": {
      "text/plain": [
       "[('age', 'int'),\n",
       " ('job', 'string'),\n",
       " ('marital', 'string'),\n",
       " ('education', 'string'),\n",
       " ('balance', 'int'),\n",
       " ('housing', 'string'),\n",
       " ('loan', 'string'),\n",
       " ('duration', 'int'),\n",
       " ('campaign', 'int'),\n",
       " ('pdays', 'int'),\n",
       " ('previous', 'int'),\n",
       " ('poutcome', 'string'),\n",
       " ('deposit', 'string')]"
      ]
     },
     "execution_count": 10,
     "metadata": {},
     "output_type": "execute_result"
    }
   ],
   "source": [
    "my_data.dtypes"
   ]
  },
  {
   "cell_type": "code",
   "execution_count": 11,
   "metadata": {},
   "outputs": [],
   "source": [
    "#Preprocessing steps\n",
    "from pyspark.ml.feature import StringIndexer, OneHotEncoder\n",
    "\n",
    "# create object of StringIndexer class and specify input and output column\n",
    "SI_job = StringIndexer(inputCol='job',outputCol='job_Index')\n",
    "SI_marital = StringIndexer(inputCol='marital',outputCol='marital_Index')\n",
    "SI_education = StringIndexer(inputCol='education',outputCol='education_Index')\n",
    "SI_housing = StringIndexer(inputCol='housing',outputCol='housing_Index')\n",
    "SI_loan = StringIndexer(inputCol='loan',outputCol='loan_Index')\n",
    "SI_poutcome = StringIndexer(inputCol='poutcome',outputCol='poutcome_Index')\n",
    "SI_deposit = StringIndexer(inputCol='deposit',outputCol='deposit_Index')\n",
    "\n",
    "\n",
    "# transform the data\n",
    "my_data = SI_job.fit(my_data).transform(my_data)\n",
    "my_data = SI_marital.fit(my_data).transform(my_data)\n",
    "my_data = SI_education.fit(my_data).transform(my_data)\n",
    "my_data = SI_housing.fit(my_data).transform(my_data)\n",
    "my_data = SI_loan.fit(my_data).transform(my_data)\n",
    "my_data = SI_poutcome.fit(my_data).transform(my_data)\n",
    "my_data = SI_deposit.fit(my_data).transform(my_data)"
   ]
  },
  {
   "cell_type": "code",
   "execution_count": 12,
   "metadata": {},
   "outputs": [
    {
     "name": "stdout",
     "output_type": "stream",
     "text": [
      "+----------+---------+--------+-------------+-------+-------------+--------+--------------+-------+-------------+\n",
      "|       job|job_Index| marital|marital_Index|housing|housing_Index|poutcome|poutcome_Index|deposit|deposit_Index|\n",
      "+----------+---------+--------+-------------+-------+-------------+--------+--------------+-------+-------------+\n",
      "|    admin.|      3.0| married|          0.0|    yes|          1.0| unknown|           0.0|    yes|          1.0|\n",
      "|    admin.|      3.0| married|          0.0|     no|          0.0| unknown|           0.0|    yes|          1.0|\n",
      "|technician|      2.0| married|          0.0|    yes|          1.0| unknown|           0.0|    yes|          1.0|\n",
      "|  services|      4.0| married|          0.0|    yes|          1.0| unknown|           0.0|    yes|          1.0|\n",
      "|    admin.|      3.0| married|          0.0|     no|          0.0| unknown|           0.0|    yes|          1.0|\n",
      "|management|      0.0|  single|          1.0|    yes|          1.0| unknown|           0.0|    yes|          1.0|\n",
      "|management|      0.0| married|          0.0|    yes|          1.0| unknown|           0.0|    yes|          1.0|\n",
      "|   retired|      5.0|divorced|          2.0|    yes|          1.0| unknown|           0.0|    yes|          1.0|\n",
      "|technician|      2.0| married|          0.0|    yes|          1.0| unknown|           0.0|    yes|          1.0|\n",
      "|  services|      4.0|  single|          1.0|    yes|          1.0| unknown|           0.0|    yes|          1.0|\n",
      "+----------+---------+--------+-------------+-------+-------------+--------+--------------+-------+-------------+\n",
      "only showing top 10 rows\n",
      "\n"
     ]
    }
   ],
   "source": [
    "# view the transformed data\n",
    "my_data.select('job', 'job_Index', 'marital', 'marital_Index','housing','housing_Index','poutcome','poutcome_Index','deposit','deposit_Index').show(10)"
   ]
  },
  {
   "cell_type": "code",
   "execution_count": 13,
   "metadata": {},
   "outputs": [
    {
     "name": "stdout",
     "output_type": "stream",
     "text": [
      "+----------+---------+--------------+---------+---------------+-------------+\n",
      "|       job|job_Index|       job_OHE|education|education_Index|education_OHE|\n",
      "+----------+---------+--------------+---------+---------------+-------------+\n",
      "|    admin.|      3.0|(11,[3],[1.0])|secondary|            0.0|(3,[0],[1.0])|\n",
      "|    admin.|      3.0|(11,[3],[1.0])|secondary|            0.0|(3,[0],[1.0])|\n",
      "|technician|      2.0|(11,[2],[1.0])|secondary|            0.0|(3,[0],[1.0])|\n",
      "|  services|      4.0|(11,[4],[1.0])|secondary|            0.0|(3,[0],[1.0])|\n",
      "|    admin.|      3.0|(11,[3],[1.0])| tertiary|            1.0|(3,[1],[1.0])|\n",
      "|management|      0.0|(11,[0],[1.0])| tertiary|            1.0|(3,[1],[1.0])|\n",
      "|management|      0.0|(11,[0],[1.0])| tertiary|            1.0|(3,[1],[1.0])|\n",
      "|   retired|      5.0|(11,[5],[1.0])|secondary|            0.0|(3,[0],[1.0])|\n",
      "|technician|      2.0|(11,[2],[1.0])|secondary|            0.0|(3,[0],[1.0])|\n",
      "|  services|      4.0|(11,[4],[1.0])|secondary|            0.0|(3,[0],[1.0])|\n",
      "+----------+---------+--------------+---------+---------------+-------------+\n",
      "only showing top 10 rows\n",
      "\n"
     ]
    }
   ],
   "source": [
    "# create object and specify input and output column\n",
    "OHE = OneHotEncoder(inputCols=['job_Index', 'marital_Index','education_Index','housing_Index','loan_Index','poutcome_Index','deposit_Index'],outputCols=['job_OHE', 'marital_OHE','education_OHE','housing_OHE','loan_OHE','poutcome_OHE','deposit_OHE'])\n",
    "\n",
    "# transform the data\n",
    "my_data = OHE.fit(my_data).transform(my_data)\n",
    "\n",
    "# view and transform the data\n",
    "my_data.select('job', 'job_Index', 'job_OHE','education','education_Index','education_OHE').show(10)"
   ]
  },
  {
   "cell_type": "code",
   "execution_count": 14,
   "metadata": {},
   "outputs": [],
   "source": [
    "from pyspark.ml.feature import VectorAssembler\n",
    "\n",
    "# specify the input and output columns of the vector assembler\n",
    "assembler = VectorAssembler(inputCols=['age',\n",
    "                                       'job_Index',\n",
    "                                       'marital_Index',\n",
    "                                       'education_Index',\n",
    "                                       'balance',\n",
    "                                       'housing_Index',\n",
    "                                       'loan_Index',\n",
    "                                       'duration',\n",
    "                                       'campaign',\n",
    "                                       'pdays',\n",
    "                                       'previous',\n",
    "                                       'poutcome_Index',\n",
    "                                       'job_OHE',\n",
    "                                       'marital_OHE',\n",
    "                                       'housing_OHE',\n",
    "                                       'education_OHE',\n",
    "                                       'loan_OHE',\n",
    "                                       'poutcome_OHE'],\n",
    "                           outputCol='features')\n",
    "\n",
    "# fill the null values\n",
    "my_data = my_data.fillna(0)\n",
    "\n",
    "# transform the data\n",
    "final_data = assembler.transform(my_data)\n"
   ]
  },
  {
   "cell_type": "code",
   "execution_count": 15,
   "metadata": {},
   "outputs": [
    {
     "name": "stdout",
     "output_type": "stream",
     "text": [
      "+--------------------+-------------+\n",
      "|            features|deposit_Index|\n",
      "+--------------------+-------------+\n",
      "|(33,[0,1,4,5,7,8,...|          1.0|\n",
      "|(33,[0,1,4,7,8,9,...|          1.0|\n",
      "|(33,[0,1,4,5,7,8,...|          1.0|\n",
      "|(33,[0,1,4,5,7,8,...|          1.0|\n",
      "|(33,[0,1,3,4,7,8,...|          1.0|\n",
      "|(33,[0,2,3,5,6,7,...|          1.0|\n",
      "|(33,[0,3,4,5,6,7,...|          1.0|\n",
      "|(33,[0,1,2,4,5,7,...|          1.0|\n",
      "|(33,[0,1,4,5,7,8,...|          1.0|\n",
      "|(33,[0,1,2,4,5,7,...|          1.0|\n",
      "|(33,[0,1,2,4,5,7,...|          1.0|\n",
      "|(33,[0,1,4,5,7,8,...|          1.0|\n",
      "|(33,[0,3,4,5,6,7,...|          1.0|\n",
      "|(33,[0,1,2,3,4,5,...|          1.0|\n",
      "|(33,[0,1,2,3,4,5,...|          1.0|\n",
      "|(33,[0,2,3,4,5,7,...|          1.0|\n",
      "|(33,[0,1,2,3,4,5,...|          1.0|\n",
      "|(33,[0,1,4,5,7,8,...|          1.0|\n",
      "|(33,[0,1,4,5,7,8,...|          1.0|\n",
      "|(33,[0,1,2,4,5,6,...|          1.0|\n",
      "+--------------------+-------------+\n",
      "only showing top 20 rows\n",
      "\n"
     ]
    }
   ],
   "source": [
    "# view the transformed vector\n",
    "final_data.select('features','deposit_Index').show()"
   ]
  },
  {
   "cell_type": "code",
   "execution_count": 16,
   "metadata": {},
   "outputs": [
    {
     "name": "stdout",
     "output_type": "stream",
     "text": [
      "root\n",
      " |-- features: vector (nullable = true)\n",
      " |-- label: double (nullable = false)\n",
      "\n"
     ]
    }
   ],
   "source": [
    "#Model_Dataframe\n",
    "model_df = final_data.select(['features','deposit_Index'])\n",
    "model_df = model_df.withColumnRenamed(\"deposit_Index\",\"label\")\n",
    "model_df.printSchema()"
   ]
  },
  {
   "cell_type": "code",
   "execution_count": 17,
   "metadata": {},
   "outputs": [],
   "source": [
    "#Split into training & testing Dataframe\n",
    "training_df,test_df = model_df.randomSplit([0.75,0.25])"
   ]
  },
  {
   "cell_type": "code",
   "execution_count": 18,
   "metadata": {},
   "outputs": [],
   "source": [
    "#Create a logistic regression model object\n",
    "from pyspark.ml.classification import LogisticRegression\n",
    "log_reg=LogisticRegression().fit(training_df)"
   ]
  },
  {
   "cell_type": "code",
   "execution_count": 19,
   "metadata": {},
   "outputs": [],
   "source": [
    "lr_summary=log_reg.summary"
   ]
  },
  {
   "cell_type": "code",
   "execution_count": 20,
   "metadata": {},
   "outputs": [
    {
     "data": {
      "text/plain": [
       "0.7998570407433881"
      ]
     },
     "execution_count": 20,
     "metadata": {},
     "output_type": "execute_result"
    }
   ],
   "source": [
    "#Overall accuracy of the classification model\n",
    "lr_summary.accuracy"
   ]
  },
  {
   "cell_type": "code",
   "execution_count": 21,
   "metadata": {},
   "outputs": [
    {
     "name": "stdout",
     "output_type": "stream",
     "text": [
      "[0.788539662176609, 0.8140973903685768]\n"
     ]
    }
   ],
   "source": [
    "#Precision of both classes\n",
    "print(lr_summary.precisionByLabel)"
   ]
  },
  {
   "cell_type": "code",
   "execution_count": null,
   "metadata": {},
   "outputs": [],
   "source": []
  }
 ],
 "metadata": {
  "kernelspec": {
   "display_name": "Python 3",
   "language": "python",
   "name": "python3"
  },
  "language_info": {
   "codemirror_mode": {
    "name": "ipython",
    "version": 3
   },
   "file_extension": ".py",
   "mimetype": "text/x-python",
   "name": "python",
   "nbconvert_exporter": "python",
   "pygments_lexer": "ipython3",
   "version": "3.7.6"
  }
 },
 "nbformat": 4,
 "nbformat_minor": 4
}
